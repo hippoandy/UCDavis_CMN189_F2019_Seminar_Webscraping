{
 "cells": [
  {
   "cell_type": "markdown",
   "metadata": {},
   "source": [
    "# Web Scraping Demo - Product List (v1)\n",
    "\n",
    "#### Author: Yu-Chang Ho (Andy), UC Davis\n",
    "#### Latest Update: 2019 10/13\n",
    "\n",
    "\n",
    "This notebook demonstrates the basic implementation for scraping data using BeautifulSoup4 library. Please use the website [https://hipposerver.ddns.net/webscraping/v1/](https://hipposerver.ddns.net/webscraping/v1/) as the sample webpage to practice webscraping.\n",
    "\n",
    "- Target website: [https://hipposerver.ddns.net/webscraping/](https://hipposerver.ddns.net/webscraping/v1/)\n",
    "- Objective: Get a list of product data in a clean CSV format"
   ]
  },
  {
   "cell_type": "code",
   "execution_count": null,
   "metadata": {},
   "outputs": [],
   "source": [
    "### import the required libraries\n",
    "from bs4 import BeautifulSoup\n",
    "import requests\n",
    "import pandas as pd\n",
    "\n",
    "url = 'https://hipposerver.ddns.net/webscraping/v1/'\n",
    "\n",
    "# get the source code of the webpage\n",
    "r = requests.get( url )\n",
    "# check it out!\n",
    "print( r.text )"
   ]
  },
  {
   "cell_type": "code",
   "execution_count": null,
   "metadata": {},
   "outputs": [],
   "source": [
    "### create a Beautiful Soup parser\n",
    "soup = BeautifulSoup( r.text, 'html.parser' )"
   ]
  },
  {
   "cell_type": "markdown",
   "metadata": {},
   "source": [
    "# Task 1. Get the Data of the First Item in the List\n",
    "\n",
    "There are totally 8 products in the sample website. In the part, please try to retrive the information for the first item in the list, which is the \"iPhone 11\". Please have the following fields:\n",
    "\n",
    "```\n",
    "[ \"name\", \"category\", \"year\", \"price\", \"rating\", \"sold\" ]\n",
    "```"
   ]
  },
  {
   "cell_type": "code",
   "execution_count": null,
   "metadata": {
    "scrolled": true
   },
   "outputs": [],
   "source": []
  },
  {
   "cell_type": "markdown",
   "metadata": {},
   "source": [
    "# Task 2. Get all the Data\n",
    "\n",
    "Now you are able to retrieve one of the item, could you do it for all the products available and output the data into a dataframe in an elegant code?"
   ]
  },
  {
   "cell_type": "code",
   "execution_count": null,
   "metadata": {},
   "outputs": [],
   "source": []
  }
 ],
 "metadata": {
  "kernelspec": {
   "display_name": "Python 3",
   "language": "python",
   "name": "python3"
  },
  "language_info": {
   "codemirror_mode": {
    "name": "ipython",
    "version": 3
   },
   "file_extension": ".py",
   "mimetype": "text/x-python",
   "name": "python",
   "nbconvert_exporter": "python",
   "pygments_lexer": "ipython3",
   "version": "3.7.3"
  }
 },
 "nbformat": 4,
 "nbformat_minor": 2
}
