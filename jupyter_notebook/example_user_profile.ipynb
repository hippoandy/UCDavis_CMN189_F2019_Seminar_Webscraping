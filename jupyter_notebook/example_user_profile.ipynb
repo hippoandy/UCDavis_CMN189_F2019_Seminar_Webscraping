{
 "cells": [
  {
   "cell_type": "code",
   "execution_count": 1,
   "metadata": {},
   "outputs": [],
   "source": [
    "### import the required libraries\n",
    "from bs4 import BeautifulSoup\n",
    "import requests\n",
    "import pandas as pd\n",
    "import numpy as np"
   ]
  },
  {
   "cell_type": "code",
   "execution_count": 2,
   "metadata": {},
   "outputs": [
    {
     "name": "stdout",
     "output_type": "stream",
     "text": [
      "b'<html>\\n<head>\\n<meta charset=\"utf-8\">\\n<meta name=\"viewport\" content=\"width=device-width, initial-scale=1, shrink-to-fit=no\">\\n\\n<title>Web-scraping Demo - User Profile Example</title>\\n\\n<style>\\n.bold-text {\\n    font-weight: bold;    \\n}\\n</style>\\n\\n</head>\\n<body>\\n    <h1>User Profile Example</h1>\\n    <nr />\\n    <div class=\"freelancer\">\\n        <div id=\"name\">Andy Ho</div>\\n        <div id=\"location\">Davis, CA, USA</div>\\n        <div class=\"bold-text\">$50/hr</div>\\n        <div class=\"experience\">1.5 years</div>\\n        <div class=\"domain\">Software</div>\\n    </div>\\n</body>\\n</html>'\n"
     ]
    }
   ],
   "source": [
    "### connect to the server and get the content of the webpage\n",
    "\n",
    "url = 'https://hipposerver.ddns.net/webscraping/'\n",
    "\n",
    "# get the source code of the webpage\n",
    "r = requests.get( url )\n",
    "# check it out!\n",
    "print( r.content )"
   ]
  },
  {
   "cell_type": "code",
   "execution_count": 4,
   "metadata": {},
   "outputs": [],
   "source": [
    "### create a Beautiful Soup parser\n",
    "'''\n",
    "normally, we use 'html.parser' as the default parser\n",
    "but, many user suggest to use 'html5lib'\n",
    "'''\n",
    "soup = BeautifulSoup( r.text, 'html.parser' )"
   ]
  },
  {
   "cell_type": "code",
   "execution_count": null,
   "metadata": {},
   "outputs": [],
   "source": [
    "for e in soup.find_all( 'span' ):\n",
    "    "
   ]
  }
 ],
 "metadata": {
  "kernelspec": {
   "display_name": "Python 3",
   "language": "python",
   "name": "python3"
  },
  "language_info": {
   "codemirror_mode": {
    "name": "ipython",
    "version": 3
   },
   "file_extension": ".py",
   "mimetype": "text/x-python",
   "name": "python",
   "nbconvert_exporter": "python",
   "pygments_lexer": "ipython3",
   "version": "3.7.3"
  }
 },
 "nbformat": 4,
 "nbformat_minor": 2
}
