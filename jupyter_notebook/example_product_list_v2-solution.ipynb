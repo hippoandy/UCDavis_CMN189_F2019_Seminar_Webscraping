{
 "cells": [
  {
   "cell_type": "markdown",
   "metadata": {},
   "source": [
    "# Web Scraping Demo - Product List (v2) Solution for Reference\n",
    "\n",
    "#### Author: Yu-Chang Ho (Andy), UC Davis\n",
    "#### Latest Update: 2019 10/13\n",
    "\n",
    "\n",
    "This notebook is an exercise for data collection from online source. Please use the website [https://hipposerver.ddns.net/webscraping/v2/](https://hipposerver.ddns.net/webscraping/v2/) as the same webpage to practice webscraping.\n",
    "\n",
    "- Target website: [https://hipposerver.ddns.net/webscraping/](https://hipposerver.ddns.net/webscraping/v2/)\n",
    "- Objective: Get a list of product data in a clean CSV format\n",
    "- Hint: Do you remember the trick I mentioned to get the data API?"
   ]
  },
  {
   "cell_type": "code",
   "execution_count": 1,
   "metadata": {},
   "outputs": [
    {
     "name": "stdout",
     "output_type": "stream",
     "text": [
      "<html>\n",
      "<head>\n",
      "<meta charset=\"utf-8\">\n",
      "<meta name=\"viewport\" content=\"width=device-width, initial-scale=1, shrink-to-fit=no\">\n",
      "\n",
      "<title>Web-scraping Demo - Product List v2</title>\n",
      "\n",
      "<!-- CSS -->\n",
      "<link rel=\"stylesheet\" href=\"https://stackpath.bootstrapcdn.com/bootstrap/4.3.1/css/bootstrap.min.css\" integrity=\"sha384-ggOyR0iXCbMQv3Xipma34MD+dH/1fQ784/j6cY/iJTQUOhcWr7x9JvoRxT2MZw1T\" crossorigin=\"anonymous\">\n",
      "<link rel=\"stylesheet\" href=\"https://stackpath.bootstrapcdn.com/font-awesome/4.7.0/css/font-awesome.min.css\">\n",
      "\n",
      "<style>\n",
      ".container {\n",
      "    padding-top: 20px;\n",
      "    padding-bottom: 20px;\n",
      "}\n",
      "\n",
      ".card-img-top\n",
      "{\n",
      "    width: 100%;\n",
      "    height: 160px;\n",
      "    object-fit: none;\n",
      "}\n",
      "</style>\n",
      "\n",
      "<!-- JavaScrip, JQuery -->\n",
      "<script\n",
      "    src=\"https://code.jquery.com/jquery-3.4.1.min.js\"\n",
      "    integrity=\"sha256-CSXorXvZcTkaix6Yvo6HppcZGetbYMGWSFlBw8HfCJo=\"\n",
      "    crossorigin=\"anonymous\"></script>\n",
      "<script src=\"https://cdnjs.cloudflare.com/ajax/libs/popper.js/1.14.7/umd/popper.min.js\" integrity=\"sha384-UO2eT0CpHqdSJQ6hJty5KVphtPhzWj9WO1clHTMGa3JDZwrnQq4sF86dIHNDz0W1\" crossorigin=\"anonymous\"></script>\n",
      "<script src=\"https://stackpath.bootstrapcdn.com/bootstrap/4.3.1/js/bootstrap.min.js\" integrity=\"sha384-JjSmVgyd0p3pXB1rRibZUAYoIIy6OrQ6VrjIEaFf/nJGzIxFDsf4x0xIM+B07jRM\" crossorigin=\"anonymous\"></script>\n",
      "</head>\n",
      "<body>\n",
      "\n",
      "<nav class=\"navbar navbar-expand-lg navbar-light bg-light\">\n",
      "    <a class=\"navbar-brand\" href=\"#\">Products (v2)</a>\n",
      "    <button class=\"navbar-toggler\" type=\"button\" data-toggle=\"collapse\" data-target=\"#navbarSupportedContent\" aria-controls=\"navbarSupportedContent\" aria-expanded=\"false\" aria-label=\"Toggle navigation\">\n",
      "        <span class=\"navbar-toggler-icon\"></span>\n",
      "    </button>\n",
      "\n",
      "    <div class=\"collapse navbar-collapse\" id=\"navbarSupportedContent\">\n",
      "        <ul class=\"navbar-nav mr-auto\">\n",
      "        <li class=\"nav-item active\">\n",
      "            <a class=\"nav-link\" href=\"https://github.com/hippoandy/Webscraping_Demo_Workshop\">GitHub Repo.</a>\n",
      "        </li>\n",
      "        <li class=\"nav-item\">\n",
      "            <a class=\"nav-link\" href=\"#\"></a>\n",
      "        </li>\n",
      "    </div>\n",
      "</nav>\n",
      "\n",
      "\n",
      "<div id=\"product-list\" class=\"container\"></div>\n",
      "\n",
      "<!-- Footer -->\n",
      "<footer class=\"page-footer font-small cyan darken-3\">\n",
      "    <!-- Copyright -->\n",
      "    <div class=\"footer-copyright text-center py-3\">Â© 2019 Copyright: Yu-Chang (Andy) Ho</div>\n",
      "    <!-- Copyright -->\n",
      "</footer>\n",
      "<!-- Footer -->\n",
      "</body>\n",
      "<script src=\"../assets/js/main.js\"></script>\n",
      "</html>\n"
     ]
    }
   ],
   "source": [
    "### import the required libraries\n",
    "\n",
    "# do you think you need to use BeautifulSoup?\n",
    "from bs4 import BeautifulSoup\n",
    "import requests\n",
    "import pandas as pd\n",
    "# why I import json lib. here?\n",
    "import json\n",
    "\n",
    "# which url you should use to find the data?\n",
    "# is this really the url you should use?\n",
    "url = 'https://hipposerver.ddns.net/webscraping/v2/'\n",
    "\n",
    "# get the content\n",
    "r = requests.get( url )\n",
    "print( r.text )"
   ]
  },
  {
   "cell_type": "code",
   "execution_count": 2,
   "metadata": {},
   "outputs": [
    {
     "name": "stdout",
     "output_type": "stream",
     "text": [
      "{'creation_date': '2019-10-13', 'creation_time': '00:09', 'num_of_items': 8, 'results': [{'name': 'iPhone 11', 'cate': 'Smartphone', 'brand': 'Apple Inc.', 'year': 2019, 'price': 765, 'rating': 4.3, 'sold': 1000, 'img': '../assets/img/iphone_11.png'}, {'name': 'iPhone XR', 'cate': 'Smartphone', 'brand': 'Apple Inc.', 'year': 2018, 'price': 599, 'rating': 4.6, 'sold': 1500, 'img': '../assets/img/iphone_xr.png'}, {'name': 'iPhone 8', 'cate': 'Smartphone', 'brand': 'Apple Inc.', 'year': 2017, 'price': 449, 'rating': 4.1, 'sold': 2900, 'img': '../assets/img/iphone_8.png'}, {'name': 'iPhone 7', 'cate': 'Smartphone', 'brand': 'Apple Inc.', 'year': 2016, 'price': 259, 'rating': 4.8, 'sold': 2080, 'img': '../assets/img/iphone_7.png'}, {'name': 'iPhone 6S', 'cate': 'Smartphone', 'brand': 'Apple Inc.', 'year': 2014, 'price': 114, 'rating': 4.4, 'sold': 1000, 'img': '../assets/img/iphone_6s.png'}, {'name': 'iPhone 3G', 'cate': 'Smartphone', 'brand': 'Apple Inc.', 'year': 2008, 'price': 39, 'rating': 4.7, 'sold': 1000, 'img': '../assets/img/iphone_3g.png'}, {'name': 'Samsung Galaxy S10', 'cate': 'Smartphone', 'brand': 'Samsung', 'year': 2018, 'price': 899, 'rating': 4.6, 'sold': 2500, 'img': '../assets/img/samsung_s10.png'}, {'name': 'Samsung Galaxy S9', 'cate': 'Smartphone', 'brand': 'Samsung', 'year': 2019, 'price': 599, 'rating': 4.7, 'sold': 2405, 'img': '../assets/img/samsung_s9.png'}]}\n"
     ]
    }
   ],
   "source": [
    "### Your code here! ###\n",
    "\n",
    "# you should use the browser developer tool to discover the hidden api link!\n",
    "# the link should be\n",
    "#\n",
    "# \"https://hipposerver.ddns.net/webscraping/assets/json/product_list.json\"\n",
    "\n",
    "url = 'https://hipposerver.ddns.net/webscraping/assets/json/product_list.json'\n",
    "r = requests.get( url )\n",
    "print( r.json() )"
   ]
  },
  {
   "cell_type": "code",
   "execution_count": 3,
   "metadata": {},
   "outputs": [
    {
     "name": "stdout",
     "output_type": "stream",
     "text": [
      "                 name    category       brand  year  price  rating  sold\n",
      "0           iPhone 11  Smartphone  Apple Inc.  2019    765     4.3  1000\n",
      "1           iPhone XR  Smartphone  Apple Inc.  2018    599     4.6  1500\n",
      "2            iPhone 8  Smartphone  Apple Inc.  2017    449     4.1  2900\n",
      "3            iPhone 7  Smartphone  Apple Inc.  2016    259     4.8  2080\n",
      "4           iPhone 6S  Smartphone  Apple Inc.  2014    114     4.4  1000\n",
      "5           iPhone 3G  Smartphone  Apple Inc.  2008     39     4.7  1000\n",
      "6  Samsung Galaxy S10  Smartphone     Samsung  2018    899     4.6  2500\n",
      "7   Samsung Galaxy S9  Smartphone     Samsung  2019    599     4.7  2405\n"
     ]
    }
   ],
   "source": [
    "# retrieve the json format data\n",
    "res = r.json()\n",
    "\n",
    "# parse the json content\n",
    "output = []\n",
    "for e in res[ 'results' ]:\n",
    "    data = [\n",
    "        e[ 'name' ],\n",
    "        e[ 'cate' ],\n",
    "        e[ 'brand' ],\n",
    "        e[ 'year' ],\n",
    "        e[ 'price' ],\n",
    "        e[ 'rating' ],\n",
    "        e[ 'sold' ]\n",
    "    ]\n",
    "    output.append( data )\n",
    "\n",
    "# generate the dataframe\n",
    "header = [ \"name\", \"category\", \"brand\", \"year\", \"price\", \"rating\", \"sold\" ]\n",
    "df = pd.DataFrame( output, columns=header )\n",
    "# the result\n",
    "print( df )"
   ]
  },
  {
   "cell_type": "code",
   "execution_count": null,
   "metadata": {},
   "outputs": [],
   "source": []
  }
 ],
 "metadata": {
  "kernelspec": {
   "display_name": "Python 3",
   "language": "python",
   "name": "python3"
  },
  "language_info": {
   "codemirror_mode": {
    "name": "ipython",
    "version": 3
   },
   "file_extension": ".py",
   "mimetype": "text/x-python",
   "name": "python",
   "nbconvert_exporter": "python",
   "pygments_lexer": "ipython3",
   "version": "3.7.3"
  }
 },
 "nbformat": 4,
 "nbformat_minor": 2
}
