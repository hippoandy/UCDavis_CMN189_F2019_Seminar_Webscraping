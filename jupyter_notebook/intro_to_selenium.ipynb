{
 "cells": [
  {
   "cell_type": "markdown",
   "metadata": {},
   "source": [
    "# Intro to Selenium\n",
    "\n",
    "#### Author: Yu-Chang Ho (Andy), UC Davis\n",
    "#### Latest Update: 2019 10/16\n",
    "\n",
    "#### Selenium Documentation\n",
    "\n",
    "[https://selenium-python.readthedocs.io/locating-elements.html#](https://selenium-python.readthedocs.io/locating-elements.html#)\n",
    "\n",
    "#### Before starting\n",
    "\n",
    "This notebook demonstrates the functionalities of the Selenium library.\n",
    "A `browser simulation executable` (`webdriver`) is required to be downloaded beforehand for the Selenium to work properly.\n",
    "\n",
    "Those executable are available through:\n",
    "\n",
    "1. Chrome: [https://chromedriver.chromium.org/downloads](https://chromedriver.chromium.org/downloads)\n",
    "2. Firefox: [https://github.com/mozilla/geckodriver](https://github.com/mozilla/geckodriver)\n",
    "\n",
    "Choose what you prefer. Then, place the downloaded webdriver in the folder `webdriver`."
   ]
  },
  {
   "cell_type": "code",
   "execution_count": 4,
   "metadata": {},
   "outputs": [],
   "source": [
    "### import the required libraries\n",
    "from selenium import webdriver\n",
    "\n",
    "### load the webdriver\n",
    "# in this example, the webdriver is placed in a folder `webdriver`,\n",
    "# which locates right under the same folder of this notebook file\n",
    "# therefore, you are able to use a relative path to find that executable\n",
    "\n",
    "# path to the driver executable\n",
    "\n",
    "### Windows\n",
    "# PATH_webdriver = './webdriver/chromedriver.exe'\n",
    "### macOS\n",
    "PATH_webdriver = './webdriver/chromedriver'\n",
    "\n",
    "# load the driver\n",
    "driver = webdriver.Chrome( PATH_webdriver )"
   ]
  },
  {
   "cell_type": "code",
   "execution_count": 22,
   "metadata": {},
   "outputs": [],
   "source": [
    "### access a certain website\n",
    "\n",
    "url = 'https://www.google.com'\n",
    "# url = 'https://wikipedia.org'\n",
    "\n",
    "driver.get( url )"
   ]
  },
  {
   "cell_type": "code",
   "execution_count": 23,
   "metadata": {},
   "outputs": [
    {
     "name": "stdout",
     "output_type": "stream",
     "text": [
      "Search\n"
     ]
    }
   ],
   "source": [
    "### find the search field\n",
    "\n",
    "search = driver.find_element_by_class_name( 'gLFyf' )\n",
    "search_text = search.get_attribute( 'title' )\n",
    "print( search_text )"
   ]
  },
  {
   "cell_type": "code",
   "execution_count": 24,
   "metadata": {},
   "outputs": [],
   "source": [
    "### input a keyword\n",
    "search.send_keys( \"UC Davis\" )"
   ]
  },
  {
   "cell_type": "code",
   "execution_count": 25,
   "metadata": {},
   "outputs": [
    {
     "name": "stdout",
     "output_type": "stream",
     "text": [
      "Google Search\n"
     ]
    }
   ],
   "source": [
    "### find the search button\n",
    "btn = driver.find_element_by_class_name( 'gNO89b' )\n",
    "btn_text = btn.get_attribute( 'value' )\n",
    "print( btn_text )"
   ]
  },
  {
   "cell_type": "code",
   "execution_count": 26,
   "metadata": {},
   "outputs": [],
   "source": [
    "### click the button\n",
    "btn.click()"
   ]
  },
  {
   "cell_type": "code",
   "execution_count": null,
   "metadata": {},
   "outputs": [],
   "source": []
  }
 ],
 "metadata": {
  "kernelspec": {
   "display_name": "Python 3",
   "language": "python",
   "name": "python3"
  },
  "language_info": {
   "codemirror_mode": {
    "name": "ipython",
    "version": 3
   },
   "file_extension": ".py",
   "mimetype": "text/x-python",
   "name": "python",
   "nbconvert_exporter": "python",
   "pygments_lexer": "ipython3",
   "version": "3.7.3"
  }
 },
 "nbformat": 4,
 "nbformat_minor": 2
}
